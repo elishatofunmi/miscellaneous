{
  "nbformat": 4,
  "nbformat_minor": 0,
  "metadata": {
    "colab": {
      "name": "Plant analysis.ipynb",
      "provenance": [],
      "authorship_tag": "ABX9TyPzOSvrCOTuhL06+wfJlroq",
      "include_colab_link": true
    },
    "kernelspec": {
      "name": "python3",
      "display_name": "Python 3"
    }
  },
  "cells": [
    {
      "cell_type": "markdown",
      "metadata": {
        "id": "view-in-github",
        "colab_type": "text"
      },
      "source": [
        "<a href=\"https://colab.research.google.com/github/elishatofunmi/miscellaneous/blob/master/Plant_analysis.ipynb\" target=\"_parent\"><img src=\"https://colab.research.google.com/assets/colab-badge.svg\" alt=\"Open In Colab\"/></a>"
      ]
    },
    {
      "cell_type": "code",
      "metadata": {
        "id": "i5FQv9jZu2iY"
      },
      "source": [
        "\n",
        "# Colab library to upload files to notebook\n",
        "from google.colab import files\n",
        "import os, sys\n",
        "# Install Kaggle library\n",
        "\n",
        "\n"
      ],
      "execution_count": 4,
      "outputs": []
    },
    {
      "cell_type": "code",
      "metadata": {
        "id": "MOqkNccLvmMf"
      },
      "source": [
        "!pip install -q kaggle"
      ],
      "execution_count": 5,
      "outputs": []
    },
    {
      "cell_type": "code",
      "metadata": {
        "id": "J7AjlbBAu8JP"
      },
      "source": [
        "os.chdir('/root/.kaggle')"
      ],
      "execution_count": 6,
      "outputs": []
    },
    {
      "cell_type": "code",
      "metadata": {
        "id": "NdCOqihKvADp",
        "outputId": "459b360f-4d2c-4ce0-91a0-7509fa280902",
        "colab": {
          "resources": {
            "http://localhost:8080/nbextensions/google.colab/files.js": {
              "data": "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",
              "ok": true,
              "headers": [
                [
                  "content-type",
                  "application/javascript"
                ]
              ],
              "status": 200,
              "status_text": "OK"
            }
          },
          "base_uri": "https://localhost:8080/",
          "height": 84
        }
      },
      "source": [
        "# Upload kaggle API key file\n",
        "uploaded = files.upload()"
      ],
      "execution_count": 7,
      "outputs": [
        {
          "output_type": "display_data",
          "data": {
            "text/html": [
              "\n",
              "     <input type=\"file\" id=\"files-60c0a96b-c267-4258-92ef-17b0f6d4c2bd\" name=\"files[]\" multiple disabled\n",
              "        style=\"border:none\" />\n",
              "     <output id=\"result-60c0a96b-c267-4258-92ef-17b0f6d4c2bd\">\n",
              "      Upload widget is only available when the cell has been executed in the\n",
              "      current browser session. Please rerun this cell to enable.\n",
              "      </output>\n",
              "      <script src=\"/nbextensions/google.colab/files.js\"></script> "
            ],
            "text/plain": [
              "<IPython.core.display.HTML object>"
            ]
          },
          "metadata": {
            "tags": []
          }
        },
        {
          "output_type": "stream",
          "text": [
            "Saving kaggle.json to kaggle (1).json\n"
          ],
          "name": "stdout"
        }
      ]
    },
    {
      "cell_type": "code",
      "metadata": {
        "id": "Jtw9WxyavMYB",
        "outputId": "d534abb5-f6ed-454c-bbfe-c0d44da5fb5c",
        "colab": {
          "base_uri": "https://localhost:8080/",
          "height": 52
        }
      },
      "source": [
        "import numpy as np # linear algebra\n",
        "import pandas as pd # data processing, CSV file I/O (e.g. pd.read_csv)\n",
        "\n",
        "import os\n",
        "!kaggle datasets download -d vipoooool/new-plant-diseases-dataset"
      ],
      "execution_count": 9,
      "outputs": [
        {
          "output_type": "stream",
          "text": [
            "Warning: Your Kaggle API key is readable by other users on this system! To fix this, you can run 'chmod 600 /root/.kaggle/kaggle.json'\n",
            "new-plant-diseases-dataset.zip: Skipping, found more recently modified local copy (use --force to force download)\n"
          ],
          "name": "stdout"
        }
      ]
    },
    {
      "cell_type": "code",
      "metadata": {
        "id": "eupSbjpcv6xJ",
        "outputId": "c8c2c8a2-d6a3-4942-ea8b-35362b66a593",
        "colab": {
          "base_uri": "https://localhost:8080/",
          "height": 52
        }
      },
      "source": [
        "!unzip new-plant-diseases-dataset.zip"
      ],
      "execution_count": 10,
      "outputs": [
        {
          "output_type": "stream",
          "text": [
            "Archive:  new-plant-diseases-dataset.zip\n",
            "replace New Plant Diseases Dataset(Augmented)/New Plant Diseases Dataset(Augmented)/train/Apple___Apple_scab/00075aa8-d81a-4184-8541-b692b78d398a___FREC_Scab 3335.JPG? [y]es, [n]o, [A]ll, [N]one, [r]ename: N\n"
          ],
          "name": "stdout"
        }
      ]
    },
    {
      "cell_type": "code",
      "metadata": {
        "id": "SYrHupoLvCf3",
        "outputId": "8617050a-d4cf-4885-f3cd-8daaf2ec24db",
        "colab": {
          "base_uri": "https://localhost:8080/",
          "height": 34
        }
      },
      "source": [
        "default_dir = os.getcwd()\n",
        "print(default_dir)"
      ],
      "execution_count": 11,
      "outputs": [
        {
          "output_type": "stream",
          "text": [
            "/root/.kaggle\n"
          ],
          "name": "stdout"
        }
      ]
    },
    {
      "cell_type": "code",
      "metadata": {
        "id": "rsg4DVbGv1Fr",
        "outputId": "f3a58627-de8c-4519-e2e0-1ef5bf069045",
        "colab": {
          "base_uri": "https://localhost:8080/",
          "height": 139
        }
      },
      "source": [
        "os.listdir()"
      ],
      "execution_count": 12,
      "outputs": [
        {
          "output_type": "execute_result",
          "data": {
            "text/plain": [
              "['kaggle.json',\n",
              " 'new plant diseases dataset(augmented)',\n",
              " 'New Plant Diseases Dataset(Augmented)',\n",
              " 'test',\n",
              " 'kaggle (1).json',\n",
              " 'MyData',\n",
              " 'new-plant-diseases-dataset.zip']"
            ]
          },
          "metadata": {
            "tags": []
          },
          "execution_count": 12
        }
      ]
    },
    {
      "cell_type": "code",
      "metadata": {
        "id": "un_3gFWiv4-J"
      },
      "source": [
        "os.chdir(default_dir + '/' + 'New Plant Diseases Dataset(Augmented)/New Plant Diseases Dataset(Augmented)/train')"
      ],
      "execution_count": 13,
      "outputs": []
    },
    {
      "cell_type": "code",
      "metadata": {
        "id": "-ooYgNQBwKk9",
        "outputId": "bfda7739-3058-4fab-b1a1-ae192c8810cb",
        "colab": {
          "base_uri": "https://localhost:8080/",
          "height": 37
        }
      },
      "source": [
        "os.getcwd()"
      ],
      "execution_count": 14,
      "outputs": [
        {
          "output_type": "execute_result",
          "data": {
            "application/vnd.google.colaboratory.intrinsic+json": {
              "type": "string"
            },
            "text/plain": [
              "'/root/.kaggle/New Plant Diseases Dataset(Augmented)/New Plant Diseases Dataset(Augmented)/train'"
            ]
          },
          "metadata": {
            "tags": []
          },
          "execution_count": 14
        }
      ]
    },
    {
      "cell_type": "code",
      "metadata": {
        "id": "nWA5Zbd_RTAR"
      },
      "source": [
        "#os.chdir('/root/.kaggle')\n",
        "#os.mkdir('MyData')\n",
        "#os.chdir('/root/.kaggle/MyData')\n",
        "destination_folder = '/root/.kaggle/MyData'"
      ],
      "execution_count": 20,
      "outputs": []
    },
    {
      "cell_type": "code",
      "metadata": {
        "id": "g_JQ3fE-RS7D"
      },
      "source": [
        "source_folder = '/root/.kaggle/New Plant Diseases Dataset(Augmented)/New Plant Diseases Dataset(Augmented)/train'"
      ],
      "execution_count": 16,
      "outputs": []
    },
    {
      "cell_type": "code",
      "metadata": {
        "id": "XTUfo4Z1SWU_",
        "outputId": "edf8ff25-bd62-485a-e478-49c52d3b96d4",
        "colab": {
          "base_uri": "https://localhost:8080/",
          "height": 34
        }
      },
      "source": [
        "work_class = ['Corn_(maize)___Cercospora_leaf_spot Gray_leaf_spot', 'Corn_(maize)___Common_rust_',\n",
        "              'Corn_(maize)___Northern_Leaf_Blight','Corn_(maize)___healthy', 'Pepper,_bell___Bacterial_spot',\n",
        "              'Pepper,_bell___healthy', 'Potato___Early_blight', 'Potato___Late_blight', 'Potato___healthy', \n",
        "              'Tomato___Bacterial_spot','Tomato___Early_blight', 'Tomato___Late_blight', 'Tomato___Leaf_Mold', \n",
        "              'Tomato___Septoria_leaf_spot', 'Tomato___Spider_mites Two-spotted_spider_mite', 'Tomato___Target_Spot',\n",
        "              'Tomato___Tomato_Yellow_Leaf_Curl_Virus', 'Tomato___Tomato_mosaic_virus','Tomato___healthy']\n",
        "\n",
        "len(work_class)"
      ],
      "execution_count": 24,
      "outputs": [
        {
          "output_type": "execute_result",
          "data": {
            "text/plain": [
              "19"
            ]
          },
          "metadata": {
            "tags": []
          },
          "execution_count": 24
        }
      ]
    },
    {
      "cell_type": "code",
      "metadata": {
        "id": "roPOPT78UBJJ"
      },
      "source": [
        "import os, shutil\n",
        "# def copytree(src, dst, symlinks=False, ignore=None):\n",
        "#     for item in os.listdir(src):\n",
        "#         #s = os.path.join(src, item)\n",
        "#         #d = os.path.join(dst, item)\n",
        "#         if os.path.isdir(s):\n",
        "#             shutil.copytree(s, d, symlinks, ignore)\n",
        "#         else:\n",
        "#             shutil.copy2(s, d)\n",
        "\n",
        "\t\n",
        "import shutil\n",
        " \n",
        "def copyDirectory(src, dest):\n",
        "    try:\n",
        "        shutil.copytree(src, dest)\n",
        "    # Directories are the same\n",
        "    except shutil.Error as e:\n",
        "        print('Directory not copied. Error: %s' % e)\n",
        "    # Any error saying that the directory doesn't exist\n",
        "    except OSError as e:\n",
        "        print('Directory not copied. Error: %s' % e)"
      ],
      "execution_count": 25,
      "outputs": []
    },
    {
      "cell_type": "code",
      "metadata": {
        "id": "Qne_7MnuRS1H",
        "outputId": "a969b1ba-5976-42b9-c13d-f047e5aee6e0",
        "colab": {
          "base_uri": "https://localhost:8080/",
          "height": 677
        }
      },
      "source": [
        "import os \n",
        "import shutil \n",
        "\n",
        "os.chdir(source_folder)\n",
        "for f,k in enumerate(os.listdir()):\n",
        "  try:\n",
        "    if k in work_class:\n",
        "      source = source_folder + '/' + str(k)\n",
        "      destination = destination_folder\n",
        "\n",
        "      os.chdir(destination)\n",
        "      os.mkdir(str(k))\n",
        "      os.chdir(source)\n",
        "\n",
        "      source_demo, dest_demo = '', ''\n",
        "      for m in os.listdir():\n",
        "        source_demo = source + '/'+str(m)\n",
        "        dest_demo = destination + '/'+ str(k) +'/'+str(m)\n",
        "        #copyDirectory(source, destination)\n",
        "        shutil.copy(source_demo, dest_demo)\n",
        "      os.chdir(source_folder)\n",
        "    else:\n",
        "      os.chdir(destination_folder)\n",
        "      os.mkdir(str(k))\n",
        "      os.chdir(source_folder)\n",
        "  except FileExistsError as err:\n",
        "    pass\n",
        "  finally:\n",
        "    print('progress '+str(f))"
      ],
      "execution_count": 41,
      "outputs": [
        {
          "output_type": "stream",
          "text": [
            "progress 0\n",
            "progress 1\n",
            "progress 2\n",
            "progress 3\n",
            "progress 4\n",
            "progress 5\n",
            "progress 6\n",
            "progress 7\n",
            "progress 8\n",
            "progress 9\n",
            "progress 10\n",
            "progress 11\n",
            "progress 12\n",
            "progress 13\n",
            "progress 14\n",
            "progress 15\n",
            "progress 16\n",
            "progress 17\n",
            "progress 18\n",
            "progress 19\n",
            "progress 20\n",
            "progress 21\n",
            "progress 22\n",
            "progress 23\n",
            "progress 24\n",
            "progress 25\n",
            "progress 26\n",
            "progress 27\n",
            "progress 28\n",
            "progress 29\n",
            "progress 30\n",
            "progress 31\n",
            "progress 32\n",
            "progress 33\n",
            "progress 34\n",
            "progress 35\n",
            "progress 36\n",
            "progress 37\n"
          ],
          "name": "stdout"
        }
      ]
    },
    {
      "cell_type": "code",
      "metadata": {
        "id": "QLZpSfn5V5dG",
        "outputId": "53af9b50-3154-4634-cfbc-c4fff77f467a",
        "colab": {
          "base_uri": "https://localhost:8080/",
          "height": 677
        }
      },
      "source": [
        "import os, sys\n",
        "os.chdir(destination_folder)\n",
        "os.listdir()"
      ],
      "execution_count": 42,
      "outputs": [
        {
          "output_type": "execute_result",
          "data": {
            "text/plain": [
              "['Grape___healthy',\n",
              " 'Tomato___Leaf_Mold',\n",
              " 'Corn_(maize)___healthy',\n",
              " 'Squash___Powdery_mildew',\n",
              " 'Strawberry___healthy',\n",
              " 'Tomato___Late_blight',\n",
              " 'Grape___Leaf_blight_(Isariopsis_Leaf_Spot)',\n",
              " 'Potato___healthy',\n",
              " 'Tomato___Target_Spot',\n",
              " 'Grape___Esca_(Black_Measles)',\n",
              " 'Pepper,_bell___Bacterial_spot',\n",
              " 'Strawberry___Leaf_scorch',\n",
              " 'Apple___Apple_scab',\n",
              " 'Tomato___Tomato_mosaic_virus',\n",
              " 'Cherry_(including_sour)___Powdery_mildew',\n",
              " 'Blueberry___healthy',\n",
              " 'Tomato___Early_blight',\n",
              " 'Cherry_(including_sour)___healthy',\n",
              " 'Peach___Bacterial_spot',\n",
              " 'Corn_(maize)___Northern_Leaf_Blight',\n",
              " 'Orange___Haunglongbing_(Citrus_greening)',\n",
              " 'Tomato___healthy',\n",
              " 'Apple___Black_rot',\n",
              " 'Corn_(maize)___Cercospora_leaf_spot Gray_leaf_spot',\n",
              " 'Tomato___Bacterial_spot',\n",
              " 'Tomato___Septoria_leaf_spot',\n",
              " 'Tomato___Tomato_Yellow_Leaf_Curl_Virus',\n",
              " 'Raspberry___healthy',\n",
              " 'Tomato___Spider_mites Two-spotted_spider_mite',\n",
              " 'Soybean___healthy',\n",
              " 'Apple___healthy',\n",
              " 'Apple___Cedar_apple_rust',\n",
              " 'Potato___Early_blight',\n",
              " 'Peach___healthy',\n",
              " 'Pepper,_bell___healthy',\n",
              " 'Grape___Black_rot',\n",
              " 'Corn_(maize)___Common_rust_',\n",
              " 'Potato___Late_blight']"
            ]
          },
          "metadata": {
            "tags": []
          },
          "execution_count": 42
        }
      ]
    },
    {
      "cell_type": "code",
      "metadata": {
        "id": "QO9z1NYXVVUP"
      },
      "source": [
        "# os.chdir(destination_folder)\n",
        "# for k in os.listdir():\n",
        "#   if os.path.isfile(str(k)):\n",
        "#     os.remove(str(k))\n",
        "#   elif os.path.isdir(str(k)):\n",
        "#     shutil.rmtree(str(k)) \n",
        "#   else:\n",
        "#     print(\"The file does not exist\") "
      ],
      "execution_count": 38,
      "outputs": []
    },
    {
      "cell_type": "code",
      "metadata": {
        "id": "Apvmf-hobrGQ"
      },
      "source": [
        "# import tensorflow as tf\n",
        "\n",
        "# img_height = 224\n",
        "# img_width = 224\n",
        "# batch_size = 1000\n",
        "\n",
        "# train_ds = tf.keras.preprocessing.image_dataset_from_directory(\n",
        "#   destination_folder,\n",
        "#   validation_split=0.2,\n",
        "#   subset=\"training\",\n",
        "#   seed=123,\n",
        "#   image_size=(img_height, img_width),\n",
        "#   batch_size=batch_size)"
      ],
      "execution_count": 44,
      "outputs": []
    },
    {
      "cell_type": "code",
      "metadata": {
        "id": "gRIFenEvR_YT",
        "outputId": "53ecb55a-a233-4a8f-9eb2-a1e7a5257dac",
        "colab": {
          "base_uri": "https://localhost:8080/",
          "height": 34
        }
      },
      "source": [
        "os.chdir(destination_folder)\n",
        "print(len(os.listdir()))\n"
      ],
      "execution_count": 45,
      "outputs": [
        {
          "output_type": "stream",
          "text": [
            "38\n"
          ],
          "name": "stdout"
        }
      ]
    },
    {
      "cell_type": "code",
      "metadata": {
        "id": "sGj3nccNBQqK",
        "outputId": "5b3ce5ed-be5e-4e0e-8d5b-57714c59aa72",
        "colab": {
          "base_uri": "https://localhost:8080/",
          "height": 52
        }
      },
      "source": [
        "source_folder, destination_folder"
      ],
      "execution_count": 46,
      "outputs": [
        {
          "output_type": "execute_result",
          "data": {
            "text/plain": [
              "('/root/.kaggle/New Plant Diseases Dataset(Augmented)/New Plant Diseases Dataset(Augmented)/train',\n",
              " '/root/.kaggle/MyData')"
            ]
          },
          "metadata": {
            "tags": []
          },
          "execution_count": 46
        }
      ]
    },
    {
      "cell_type": "code",
      "metadata": {
        "id": "fZydNKhhRNyK"
      },
      "source": [
        "#copy 70 random images from each in listtrial into their respective folders in the dest directory\n",
        "import random\n",
        "\n",
        "listtrial = ['Grape___healthy',\n",
        "             'Squash___Powdery_mildew',\n",
        "             'Strawberry___healthy',\n",
        "             'Grape___Leaf_blight_(Isariopsis_Leaf_Spot)',\n",
        "             'Grape___Esca_(Black_Measles)',\n",
        "             'Strawberry___Leaf_scorch',\n",
        "             'Apple___Apple_scab',\n",
        "             'Cherry_(including_sour)___Powdery_mildew',\n",
        "             'Blueberry___healthy',\n",
        "             'Cherry_(including_sour)___healthy',\n",
        "             'Peach___Bacterial_spot',\n",
        "             'Orange___Haunglongbing_(Citrus_greening)',\n",
        "             'Apple___Black_rot',\n",
        "             'Raspberry___healthy',\n",
        "             'Soybean___healthy',\n",
        "             'Apple___healthy',\n",
        "             'Apple___Cedar_apple_rust',\n",
        "             'Peach___healthy',\n",
        "             'Grape___Black_rot']\n",
        "\n",
        "\n",
        "for m in listtrial:\n",
        "   src = source_folder + '/'+ str(m)\n",
        "   dest = destination_folder + '/' + str(m)\n",
        "   os.chdir(src)\n",
        "   dummy_source_list = os.listdir()\n",
        "   randomlist = random.sample(dummy_source_list, 70)\n",
        "   for b in randomlist:\n",
        "     source = src + '/'+str(b)\n",
        "     shutil.copy(source, dest)\n",
        "\n",
        "\n"
      ],
      "execution_count": 49,
      "outputs": []
    },
    {
      "cell_type": "code",
      "metadata": {
        "id": "dm4Wc1kQC3oK"
      },
      "source": [
        ""
      ],
      "execution_count": null,
      "outputs": []
    },
    {
      "cell_type": "code",
      "metadata": {
        "id": "AtCeCEgtCBRn",
        "outputId": "4da45edc-42dd-4a67-8c97-16cc5981d8a0",
        "colab": {
          "base_uri": "https://localhost:8080/",
          "height": 52
        }
      },
      "source": [
        "#Adding all non-wanted identifications to folder 'Grape___healthy'\n",
        "destination= destination_folder + '/'+'Grape___healthy'\n",
        "\n",
        "os.chdir(destination)\n",
        "print('At the start, destination contains: ', len(os.listdir()))\n",
        "\n",
        "for m in listtrial[1:]:\n",
        "  \n",
        "  src = destination_folder + '/'+str(m)\n",
        "  os.chdir(src)\n",
        "  dummy_source_list = os.listdir()\n",
        "  for b in dummy_source_list:\n",
        "    source = src + '/'+str(b)\n",
        "    shutil.copy(source, destination)\n",
        "\n",
        "os.chdir(destination)\n",
        "print('Now, destination contains: ', len(os.listdir()))\n"
      ],
      "execution_count": 51,
      "outputs": [
        {
          "output_type": "stream",
          "text": [
            "At the start, destination contains:  70\n",
            "Now, destination contains:  1330\n"
          ],
          "name": "stdout"
        }
      ]
    },
    {
      "cell_type": "code",
      "metadata": {
        "id": "UhytYq76DKW4"
      },
      "source": [
        "#Delete the remaining unknown data's\n",
        "for m in listtrial[1:]:\n",
        "  direc = destination_folder + '/'+str(m)\n",
        "  shutil.rmtree(direc)"
      ],
      "execution_count": 52,
      "outputs": []
    },
    {
      "cell_type": "code",
      "metadata": {
        "id": "jhvOshbgDeGi",
        "outputId": "3b91ff56-48f3-44b5-99be-aa5ac2256c24",
        "colab": {
          "base_uri": "https://localhost:8080/",
          "height": 364
        }
      },
      "source": [
        "os.chdir(destination_folder)\n",
        "os.listdir()"
      ],
      "execution_count": 53,
      "outputs": [
        {
          "output_type": "execute_result",
          "data": {
            "text/plain": [
              "['Grape___healthy',\n",
              " 'Tomato___Leaf_Mold',\n",
              " 'Corn_(maize)___healthy',\n",
              " 'Tomato___Late_blight',\n",
              " 'Potato___healthy',\n",
              " 'Tomato___Target_Spot',\n",
              " 'Pepper,_bell___Bacterial_spot',\n",
              " 'Tomato___Tomato_mosaic_virus',\n",
              " 'Tomato___Early_blight',\n",
              " 'Corn_(maize)___Northern_Leaf_Blight',\n",
              " 'Tomato___healthy',\n",
              " 'Corn_(maize)___Cercospora_leaf_spot Gray_leaf_spot',\n",
              " 'Tomato___Bacterial_spot',\n",
              " 'Tomato___Septoria_leaf_spot',\n",
              " 'Tomato___Tomato_Yellow_Leaf_Curl_Virus',\n",
              " 'Tomato___Spider_mites Two-spotted_spider_mite',\n",
              " 'Potato___Early_blight',\n",
              " 'Pepper,_bell___healthy',\n",
              " 'Corn_(maize)___Common_rust_',\n",
              " 'Potato___Late_blight']"
            ]
          },
          "metadata": {
            "tags": []
          },
          "execution_count": 53
        }
      ]
    },
    {
      "cell_type": "code",
      "metadata": {
        "id": "NxcXIsA0D4bT"
      },
      "source": [
        "#rename 'Grape___healthy'\n",
        "renameSource = destination_folder + '/' + 'Grape___healthy'\n",
        "renameOut = destination_folder + '/' + 'Unknown'\n",
        "os.rename(renameSource, renameOut)"
      ],
      "execution_count": 54,
      "outputs": []
    },
    {
      "cell_type": "code",
      "metadata": {
        "id": "0ENE2rUJEVnM",
        "outputId": "fa65534e-99a1-4ea4-ec19-43a41a39aafa",
        "colab": {
          "base_uri": "https://localhost:8080/",
          "height": 364
        }
      },
      "source": [
        "os.chdir(destination_folder)\n",
        "os.listdir()"
      ],
      "execution_count": 55,
      "outputs": [
        {
          "output_type": "execute_result",
          "data": {
            "text/plain": [
              "['Tomato___Leaf_Mold',\n",
              " 'Corn_(maize)___healthy',\n",
              " 'Unknown',\n",
              " 'Tomato___Late_blight',\n",
              " 'Potato___healthy',\n",
              " 'Tomato___Target_Spot',\n",
              " 'Pepper,_bell___Bacterial_spot',\n",
              " 'Tomato___Tomato_mosaic_virus',\n",
              " 'Tomato___Early_blight',\n",
              " 'Corn_(maize)___Northern_Leaf_Blight',\n",
              " 'Tomato___healthy',\n",
              " 'Corn_(maize)___Cercospora_leaf_spot Gray_leaf_spot',\n",
              " 'Tomato___Bacterial_spot',\n",
              " 'Tomato___Septoria_leaf_spot',\n",
              " 'Tomato___Tomato_Yellow_Leaf_Curl_Virus',\n",
              " 'Tomato___Spider_mites Two-spotted_spider_mite',\n",
              " 'Potato___Early_blight',\n",
              " 'Pepper,_bell___healthy',\n",
              " 'Corn_(maize)___Common_rust_',\n",
              " 'Potato___Late_blight']"
            ]
          },
          "metadata": {
            "tags": []
          },
          "execution_count": 55
        }
      ]
    },
    {
      "cell_type": "code",
      "metadata": {
        "id": "44PiZemFDmO2",
        "outputId": "a46e4509-9ed4-48d0-a656-d9c5dfc9f7aa",
        "colab": {
          "base_uri": "https://localhost:8080/",
          "height": 54
        }
      },
      "source": [
        "dictData = {}\n",
        "for k in os.listdir():\n",
        "  os.chdir(destination_folder + '/'+str(k))\n",
        "  dictData[k] = len(os.listdir())\n",
        "  os.chdir(destination_folder)\n",
        "print(dictData)"
      ],
      "execution_count": 56,
      "outputs": [
        {
          "output_type": "stream",
          "text": [
            "{'Tomato___Leaf_Mold': 1882, 'Corn_(maize)___healthy': 1859, 'Unknown': 1330, 'Tomato___Late_blight': 1851, 'Potato___healthy': 1824, 'Tomato___Target_Spot': 1827, 'Pepper,_bell___Bacterial_spot': 1913, 'Tomato___Tomato_mosaic_virus': 1790, 'Tomato___Early_blight': 1920, 'Corn_(maize)___Northern_Leaf_Blight': 1908, 'Tomato___healthy': 1926, 'Corn_(maize)___Cercospora_leaf_spot Gray_leaf_spot': 1642, 'Tomato___Bacterial_spot': 1702, 'Tomato___Septoria_leaf_spot': 1745, 'Tomato___Tomato_Yellow_Leaf_Curl_Virus': 1961, 'Tomato___Spider_mites Two-spotted_spider_mite': 1741, 'Potato___Early_blight': 1939, 'Pepper,_bell___healthy': 1988, 'Corn_(maize)___Common_rust_': 1907, 'Potato___Late_blight': 1939}\n"
          ],
          "name": "stdout"
        }
      ]
    },
    {
      "cell_type": "code",
      "metadata": {
        "id": "QhqaANhkEljj",
        "outputId": "a4daced1-d7c6-44cf-81f8-b1c17bd91009",
        "colab": {
          "base_uri": "https://localhost:8080/",
          "height": 520
        }
      },
      "source": [
        "\n",
        "import matplotlib.pyplot as plt\n",
        "plt.bar(dictData.keys(), dictData.values())\n",
        "plt.xticks(rotation = 90)\n",
        "plt.show()"
      ],
      "execution_count": 61,
      "outputs": [
        {
          "output_type": "display_data",
          "data": {
            "image/png": "[encoded data removed]",
            "text/plain": [
              "<Figure size 432x288 with 1 Axes>"
            ]
          },
          "metadata": {
            "tags": [],
            "needs_background": "light"
          }
        }
      ]
    },
    {
      "cell_type": "markdown",
      "metadata": {
        "id": "bNuTwUDVGu6O"
      },
      "source": [
        "Validation data"
      ]
    },
    {
      "cell_type": "code",
      "metadata": {
        "id": "G6TAHdPNGtsw"
      },
      "source": [
        "os.chdir('/root/.kaggle/New Plant Diseases Dataset(Augmented)/New Plant Diseases Dataset(Augmented)/valid')\n",
        "val_dest = os.getcwd()"
      ],
      "execution_count": 73,
      "outputs": []
    },
    {
      "cell_type": "code",
      "metadata": {
        "id": "dVEA7IKMHfbR",
        "outputId": "7926136b-1f63-48ca-b8ce-5886776f7b01",
        "colab": {
          "base_uri": "https://localhost:8080/",
          "height": 52
        }
      },
      "source": [
        "destination= val_dest + '/'+'Grape___healthy'\n",
        "\n",
        "os.chdir(destination)\n",
        "print('At the start, destination contains: ', len(os.listdir()))\n",
        "\n",
        "for m in listtrial[1:]:\n",
        "  \n",
        "  src = val_dest + '/'+str(m)\n",
        "  os.chdir(src)\n",
        "  dummy_source_list = os.listdir()\n",
        "  for b in dummy_source_list:\n",
        "    source = src + '/'+str(b)\n",
        "    shutil.copy(source, destination)\n",
        "\n",
        "os.chdir(destination)\n",
        "print('Now, destination contains: ', len(os.listdir()))\n"
      ],
      "execution_count": 74,
      "outputs": [
        {
          "output_type": "stream",
          "text": [
            "At the start, destination contains:  423\n",
            "Now, destination contains:  8757\n"
          ],
          "name": "stdout"
        }
      ]
    },
    {
      "cell_type": "code",
      "metadata": {
        "id": "XRvcZF0oI4kq"
      },
      "source": [
        "os.chdir(val_dest)\n",
        "os.mkdir('unknown')\n",
        "sor = val_dest + '/'+ 'Grape___healthy'\n",
        "dor = val_dest + '/'+'unknown'\n",
        "os.chdir(sor)\n",
        "dummy_source_list = os.listdir()\n",
        "randomlist = random.sample(dummy_source_list, 450)\n",
        "for v in randomlist:\n",
        "  updatesor = sor +'/'+str(v)\n",
        "  shutil.copy(updatesor, dor)\n",
        "\n",
        "\n",
        "shutil.rmtree(sor)\n"
      ],
      "execution_count": 83,
      "outputs": []
    },
    {
      "cell_type": "code",
      "metadata": {
        "id": "ID4s6jctH44q",
        "outputId": "84160308-6a0f-430e-c33b-9c6ed77134af",
        "colab": {
          "base_uri": "https://localhost:8080/",
          "height": 383
        }
      },
      "source": [
        "for m in listtrial[1:]:\n",
        "  direc = val_dest + '/'+str(m)\n",
        "  shutil.rmtree(direc)\n",
        "\n",
        "os.chdir(val_dest)\n",
        "os.listdir()"
      ],
      "execution_count": 84,
      "outputs": [
        {
          "output_type": "error",
          "ename": "FileNotFoundError",
          "evalue": "ignored",
          "traceback": [
            "\u001b[0;31m---------------------------------------------------------------------------\u001b[0m",
            "\u001b[0;31mFileNotFoundError\u001b[0m                         Traceback (most recent call last)",
            "\u001b[0;32m<ipython-input-84-605912700433>\u001b[0m in \u001b[0;36m<module>\u001b[0;34m()\u001b[0m\n\u001b[1;32m      1\u001b[0m \u001b[0;32mfor\u001b[0m \u001b[0mm\u001b[0m \u001b[0;32min\u001b[0m \u001b[0mlisttrial\u001b[0m\u001b[0;34m[\u001b[0m\u001b[0;36m1\u001b[0m\u001b[0;34m:\u001b[0m\u001b[0;34m]\u001b[0m\u001b[0;34m:\u001b[0m\u001b[0;34m\u001b[0m\u001b[0;34m\u001b[0m\u001b[0m\n\u001b[1;32m      2\u001b[0m   \u001b[0mdirec\u001b[0m \u001b[0;34m=\u001b[0m \u001b[0mval_dest\u001b[0m \u001b[0;34m+\u001b[0m \u001b[0;34m'/'\u001b[0m\u001b[0;34m+\u001b[0m\u001b[0mstr\u001b[0m\u001b[0;34m(\u001b[0m\u001b[0mm\u001b[0m\u001b[0;34m)\u001b[0m\u001b[0;34m\u001b[0m\u001b[0;34m\u001b[0m\u001b[0m\n\u001b[0;32m----> 3\u001b[0;31m   \u001b[0mshutil\u001b[0m\u001b[0;34m.\u001b[0m\u001b[0mrmtree\u001b[0m\u001b[0;34m(\u001b[0m\u001b[0mdirec\u001b[0m\u001b[0;34m)\u001b[0m\u001b[0;34m\u001b[0m\u001b[0;34m\u001b[0m\u001b[0m\n\u001b[0m\u001b[1;32m      4\u001b[0m \u001b[0;34m\u001b[0m\u001b[0m\n\u001b[1;32m      5\u001b[0m \u001b[0mos\u001b[0m\u001b[0;34m.\u001b[0m\u001b[0mchdir\u001b[0m\u001b[0;34m(\u001b[0m\u001b[0mval_dest\u001b[0m\u001b[0;34m)\u001b[0m\u001b[0;34m\u001b[0m\u001b[0;34m\u001b[0m\u001b[0m\n",
            "\u001b[0;32m/usr/lib/python3.6/shutil.py\u001b[0m in \u001b[0;36mrmtree\u001b[0;34m(path, ignore_errors, onerror)\u001b[0m\n\u001b[1;32m    475\u001b[0m             \u001b[0morig_st\u001b[0m \u001b[0;34m=\u001b[0m \u001b[0mos\u001b[0m\u001b[0;34m.\u001b[0m\u001b[0mlstat\u001b[0m\u001b[0;34m(\u001b[0m\u001b[0mpath\u001b[0m\u001b[0;34m)\u001b[0m\u001b[0;34m\u001b[0m\u001b[0;34m\u001b[0m\u001b[0m\n\u001b[1;32m    476\u001b[0m         \u001b[0;32mexcept\u001b[0m \u001b[0mException\u001b[0m\u001b[0;34m:\u001b[0m\u001b[0;34m\u001b[0m\u001b[0;34m\u001b[0m\u001b[0m\n\u001b[0;32m--> 477\u001b[0;31m             \u001b[0monerror\u001b[0m\u001b[0;34m(\u001b[0m\u001b[0mos\u001b[0m\u001b[0;34m.\u001b[0m\u001b[0mlstat\u001b[0m\u001b[0;34m,\u001b[0m \u001b[0mpath\u001b[0m\u001b[0;34m,\u001b[0m \u001b[0msys\u001b[0m\u001b[0;34m.\u001b[0m\u001b[0mexc_info\u001b[0m\u001b[0;34m(\u001b[0m\u001b[0;34m)\u001b[0m\u001b[0;34m)\u001b[0m\u001b[0;34m\u001b[0m\u001b[0;34m\u001b[0m\u001b[0m\n\u001b[0m\u001b[1;32m    478\u001b[0m             \u001b[0;32mreturn\u001b[0m\u001b[0;34m\u001b[0m\u001b[0;34m\u001b[0m\u001b[0m\n\u001b[1;32m    479\u001b[0m         \u001b[0;32mtry\u001b[0m\u001b[0;34m:\u001b[0m\u001b[0;34m\u001b[0m\u001b[0;34m\u001b[0m\u001b[0m\n",
            "\u001b[0;32m/usr/lib/python3.6/shutil.py\u001b[0m in \u001b[0;36mrmtree\u001b[0;34m(path, ignore_errors, onerror)\u001b[0m\n\u001b[1;32m    473\u001b[0m         \u001b[0;31m# lstat()/open()/fstat() trick.\u001b[0m\u001b[0;34m\u001b[0m\u001b[0;34m\u001b[0m\u001b[0;34m\u001b[0m\u001b[0m\n\u001b[1;32m    474\u001b[0m         \u001b[0;32mtry\u001b[0m\u001b[0;34m:\u001b[0m\u001b[0;34m\u001b[0m\u001b[0;34m\u001b[0m\u001b[0m\n\u001b[0;32m--> 475\u001b[0;31m             \u001b[0morig_st\u001b[0m \u001b[0;34m=\u001b[0m \u001b[0mos\u001b[0m\u001b[0;34m.\u001b[0m\u001b[0mlstat\u001b[0m\u001b[0;34m(\u001b[0m\u001b[0mpath\u001b[0m\u001b[0;34m)\u001b[0m\u001b[0;34m\u001b[0m\u001b[0;34m\u001b[0m\u001b[0m\n\u001b[0m\u001b[1;32m    476\u001b[0m         \u001b[0;32mexcept\u001b[0m \u001b[0mException\u001b[0m\u001b[0;34m:\u001b[0m\u001b[0;34m\u001b[0m\u001b[0;34m\u001b[0m\u001b[0m\n\u001b[1;32m    477\u001b[0m             \u001b[0monerror\u001b[0m\u001b[0;34m(\u001b[0m\u001b[0mos\u001b[0m\u001b[0;34m.\u001b[0m\u001b[0mlstat\u001b[0m\u001b[0;34m,\u001b[0m \u001b[0mpath\u001b[0m\u001b[0;34m,\u001b[0m \u001b[0msys\u001b[0m\u001b[0;34m.\u001b[0m\u001b[0mexc_info\u001b[0m\u001b[0;34m(\u001b[0m\u001b[0;34m)\u001b[0m\u001b[0;34m)\u001b[0m\u001b[0;34m\u001b[0m\u001b[0;34m\u001b[0m\u001b[0m\n",
            "\u001b[0;31mFileNotFoundError\u001b[0m: [Errno 2] No such file or directory: '/root/.kaggle/New Plant Diseases Dataset(Augmented)/New Plant Diseases Dataset(Augmented)/valid/Squash___Powdery_mildew'"
          ]
        }
      ]
    },
    {
      "cell_type": "code",
      "metadata": {
        "id": "8GL6Sr_FIToT",
        "outputId": "2fe79bf5-1166-4096-946d-f73ec17ebeaa",
        "colab": {
          "base_uri": "https://localhost:8080/",
          "height": 557
        }
      },
      "source": [
        "dictData = {}\n",
        "os.chdir(val_dest)\n",
        "\n",
        "for k in os.listdir():\n",
        "  os.chdir(val_dest + '/'+str(k))\n",
        "  dictData[k] = len(os.listdir())\n",
        "  os.chdir(val_dest)\n",
        "print(dictData)\n",
        "\n",
        "\n",
        "import matplotlib.pyplot as plt\n",
        "plt.bar(dictData.keys(), dictData.values())\n",
        "plt.xticks(rotation = 90)\n",
        "plt.show()"
      ],
      "execution_count": 85,
      "outputs": [
        {
          "output_type": "stream",
          "text": [
            "{'Tomato___Leaf_Mold': 470, 'Corn_(maize)___healthy': 465, 'Tomato___Late_blight': 463, 'Potato___healthy': 456, 'Tomato___Target_Spot': 457, 'Pepper,_bell___Bacterial_spot': 478, 'Tomato___Tomato_mosaic_virus': 448, 'Tomato___Early_blight': 480, 'Corn_(maize)___Northern_Leaf_Blight': 477, 'Tomato___healthy': 481, 'Corn_(maize)___Cercospora_leaf_spot Gray_leaf_spot': 410, 'Tomato___Bacterial_spot': 425, 'unknown': 450, 'Tomato___Septoria_leaf_spot': 436, 'Tomato___Tomato_Yellow_Leaf_Curl_Virus': 490, 'Tomato___Spider_mites Two-spotted_spider_mite': 435, 'Potato___Early_blight': 485, 'Pepper,_bell___healthy': 497, 'Corn_(maize)___Common_rust_': 477, 'Potato___Late_blight': 485}\n"
          ],
          "name": "stdout"
        },
        {
          "output_type": "display_data",
          "data": {
            "image/png": "[encoded data removed]",
            "text/plain": [
              "<Figure size 432x288 with 1 Axes>"
            ]
          },
          "metadata": {
            "tags": [],
            "needs_background": "light"
          }
        }
      ]
    },
    {
      "cell_type": "code",
      "metadata": {
        "id": "13SAZWsCKfFx"
      },
      "source": [
        ""
      ],
      "execution_count": null,
      "outputs": []
    },
    {
      "cell_type": "markdown",
      "metadata": {
        "id": "zBtqdZlVcsvW"
      },
      "source": [
        "modelling"
      ]
    },
    {
      "cell_type": "code",
      "metadata": {
        "id": "YQvv42c_dEnQ",
        "outputId": "6f855e54-2d27-4b4c-882e-a513070167cb",
        "colab": {
          "base_uri": "https://localhost:8080/",
          "height": 52
        }
      },
      "source": [
        "import tensorflow as tf\n",
        "\n",
        "img_height = 224\n",
        "img_width = 224\n",
        "batch_size = 100\n",
        "\n",
        "train_ds = tf.keras.preprocessing.image_dataset_from_directory(\n",
        "  destination_folder,\n",
        "  validation_split=0.2,\n",
        "  subset=\"training\",\n",
        "  seed=123,\n",
        "  image_size=(img_height, img_width),\n",
        "  batch_size=batch_size)"
      ],
      "execution_count": 62,
      "outputs": [
        {
          "output_type": "stream",
          "text": [
            "Found 36594 files belonging to 20 classes.\n",
            "Using 29276 files for training.\n"
          ],
          "name": "stdout"
        }
      ]
    },
    {
      "cell_type": "code",
      "metadata": {
        "id": "cN9rK9jDKxCf",
        "outputId": "e59a7717-9cbb-460a-9585-9ba565c6c65b",
        "colab": {
          "base_uri": "https://localhost:8080/",
          "height": 364
        }
      },
      "source": [
        "train_ds.class_names"
      ],
      "execution_count": 87,
      "outputs": [
        {
          "output_type": "execute_result",
          "data": {
            "text/plain": [
              "['Corn_(maize)___Cercospora_leaf_spot Gray_leaf_spot',\n",
              " 'Corn_(maize)___Common_rust_',\n",
              " 'Corn_(maize)___Northern_Leaf_Blight',\n",
              " 'Corn_(maize)___healthy',\n",
              " 'Pepper,_bell___Bacterial_spot',\n",
              " 'Pepper,_bell___healthy',\n",
              " 'Potato___Early_blight',\n",
              " 'Potato___Late_blight',\n",
              " 'Potato___healthy',\n",
              " 'Tomato___Bacterial_spot',\n",
              " 'Tomato___Early_blight',\n",
              " 'Tomato___Late_blight',\n",
              " 'Tomato___Leaf_Mold',\n",
              " 'Tomato___Septoria_leaf_spot',\n",
              " 'Tomato___Spider_mites Two-spotted_spider_mite',\n",
              " 'Tomato___Target_Spot',\n",
              " 'Tomato___Tomato_Yellow_Leaf_Curl_Virus',\n",
              " 'Tomato___Tomato_mosaic_virus',\n",
              " 'Tomato___healthy',\n",
              " 'Unknown']"
            ]
          },
          "metadata": {
            "tags": []
          },
          "execution_count": 87
        }
      ]
    },
    {
      "cell_type": "code",
      "metadata": {
        "id": "VAEFTfiNGO93",
        "outputId": "0ac9a751-0fa6-44a6-f632-97951ddf14c2",
        "colab": {
          "base_uri": "https://localhost:8080/",
          "height": 52
        }
      },
      "source": [
        "import tensorflow as tf\n",
        "\n",
        "img_height = 224\n",
        "img_width = 224\n",
        "batch_size = 100\n",
        "\n",
        "val_ds = tf.keras.preprocessing.image_dataset_from_directory(\n",
        "  val_dest,\n",
        "  validation_split=0.2,\n",
        "  subset=\"validation\",\n",
        "  seed=123,\n",
        "  image_size=(img_height, img_width),\n",
        "  batch_size=batch_size)"
      ],
      "execution_count": 86,
      "outputs": [
        {
          "output_type": "stream",
          "text": [
            "Found 9265 files belonging to 20 classes.\n",
            "Using 1853 files for validation.\n"
          ],
          "name": "stdout"
        }
      ]
    },
    {
      "cell_type": "code",
      "metadata": {
        "id": "iUtb4xJ8GOcn",
        "outputId": "d01f853c-0ae6-444f-e88a-493c1d3e71c1",
        "colab": {
          "base_uri": "https://localhost:8080/",
          "height": 364
        }
      },
      "source": [
        "for i, j in zip(train_ds.class_names, val_ds.class_names):\n",
        "  print(i,'      ',j)"
      ],
      "execution_count": 90,
      "outputs": [
        {
          "output_type": "stream",
          "text": [
            "Corn_(maize)___Cercospora_leaf_spot Gray_leaf_spot        Corn_(maize)___Cercospora_leaf_spot Gray_leaf_spot\n",
            "Corn_(maize)___Common_rust_        Corn_(maize)___Common_rust_\n",
            "Corn_(maize)___Northern_Leaf_Blight        Corn_(maize)___Northern_Leaf_Blight\n",
            "Corn_(maize)___healthy        Corn_(maize)___healthy\n",
            "Pepper,_bell___Bacterial_spot        Pepper,_bell___Bacterial_spot\n",
            "Pepper,_bell___healthy        Pepper,_bell___healthy\n",
            "Potato___Early_blight        Potato___Early_blight\n",
            "Potato___Late_blight        Potato___Late_blight\n",
            "Potato___healthy        Potato___healthy\n",
            "Tomato___Bacterial_spot        Tomato___Bacterial_spot\n",
            "Tomato___Early_blight        Tomato___Early_blight\n",
            "Tomato___Late_blight        Tomato___Late_blight\n",
            "Tomato___Leaf_Mold        Tomato___Leaf_Mold\n",
            "Tomato___Septoria_leaf_spot        Tomato___Septoria_leaf_spot\n",
            "Tomato___Spider_mites Two-spotted_spider_mite        Tomato___Spider_mites Two-spotted_spider_mite\n",
            "Tomato___Target_Spot        Tomato___Target_Spot\n",
            "Tomato___Tomato_Yellow_Leaf_Curl_Virus        Tomato___Tomato_Yellow_Leaf_Curl_Virus\n",
            "Tomato___Tomato_mosaic_virus        Tomato___Tomato_mosaic_virus\n",
            "Tomato___healthy        Tomato___healthy\n",
            "Unknown        unknown\n"
          ],
          "name": "stdout"
        }
      ]
    },
    {
      "cell_type": "code",
      "metadata": {
        "id": "xu9cat47RNqI",
        "outputId": "07121db2-5b3d-4e59-a6bb-42de55ddfd5b",
        "colab": {
          "base_uri": "https://localhost:8080/",
          "height": 34
        }
      },
      "source": [
        "from tensorflow.keras import layers\n",
        "\n",
        "normalization_layer = tf.keras.layers.experimental.preprocessing.Rescaling(1./255)\n",
        "normalized_ds = train_ds.map(lambda x, y: (normalization_layer(x), y))\n",
        "image_batch, labels_batch = next(iter(normalized_ds))\n",
        "first_image = image_batch[0]\n",
        "# Notice the pixels values are now in `[0,1]`.\n",
        "print(np.min(first_image), np.max(first_image)) \n"
      ],
      "execution_count": 63,
      "outputs": [
        {
          "output_type": "stream",
          "text": [
            "0.0 0.91882324\n"
          ],
          "name": "stdout"
        }
      ]
    },
    {
      "cell_type": "code",
      "metadata": {
        "id": "KekW_5ItRLSM",
        "outputId": "7ed1fec2-6254-4960-c907-a9c5865286a6",
        "colab": {
          "base_uri": "https://localhost:8080/",
          "height": 52
        }
      },
      "source": [
        "num_classes = 20\n",
        "\n",
        "model = tf.keras.Sequential([\n",
        "  layers.experimental.preprocessing.Rescaling(1./255),\n",
        "  layers.Conv2D(32, 3, activation='relu'),\n",
        "  layers.MaxPooling2D(),\n",
        "  layers.Conv2D(32, 3, activation='relu'),\n",
        "  layers.MaxPooling2D(),\n",
        "  layers.Conv2D(32, 3, activation='relu'),\n",
        "  layers.MaxPooling2D(),\n",
        "  layers.Flatten(),\n",
        "  layers.Dense(1000, activation='relu'),\n",
        "  layers.Dense(5000, activation='relu'),\n",
        "  layers.Dense(100, activation='relu'),\n",
        "  layers.Dense(num_classes, activation = 'softmax')\n",
        "])\n",
        "\n",
        "model.compile(\n",
        "  optimizer='adam',\n",
        "  loss=tf.losses.SparseCategoricalCrossentropy(from_logits=True),\n",
        "  metrics=['accuracy'])\n",
        "\n",
        "\n",
        "model.fit(\n",
        "  train_ds,\n",
        "  validation_data=val_ds,\n",
        "  epochs=30\n",
        ")\n",
        "\n"
      ],
      "execution_count": null,
      "outputs": [
        {
          "output_type": "stream",
          "text": [
            "Epoch 1/3\n",
            " 76/293 [======>.......................] - ETA: 20:59 - loss: 2.9572 - accuracy: 0.1082"
          ],
          "name": "stdout"
        }
      ]
    },
    {
      "cell_type": "code",
      "metadata": {
        "id": "6Xe2Dr00RLQf"
      },
      "source": [
        ""
      ],
      "execution_count": null,
      "outputs": []
    },
    {
      "cell_type": "code",
      "metadata": {
        "id": "nhKkL5skRLNG"
      },
      "source": [
        ""
      ],
      "execution_count": null,
      "outputs": []
    },
    {
      "cell_type": "code",
      "metadata": {
        "id": "q0uyEqFwRGFN"
      },
      "source": [
        ""
      ],
      "execution_count": null,
      "outputs": []
    },
    {
      "cell_type": "code",
      "metadata": {
        "id": "SMcklsiPRIAX"
      },
      "source": [
        ""
      ],
      "execution_count": null,
      "outputs": []
    },
    {
      "cell_type": "code",
      "metadata": {
        "id": "VU0tZ1sYRH71"
      },
      "source": [
        ""
      ],
      "execution_count": null,
      "outputs": []
    }
  ]
}