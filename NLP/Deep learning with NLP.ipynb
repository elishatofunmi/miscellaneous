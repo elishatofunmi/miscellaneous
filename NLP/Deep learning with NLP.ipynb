{
 "cells": [
  {
   "cell_type": "markdown",
   "metadata": {},
   "source": [
    "Recurrent neural networks are used when a data\n",
    "pattern changes over time. RNNs can be assumed as \n",
    "unrolled over time.\n",
    "\n",
    "RNNs have feedback loops in which the output from the previous firing or time index T is fed as one of the inputs at time index T+1. There might be cases in which the output of the neuron is fed to itself as input. These are well suited for applications involving sequences.\n",
    "\n",
    "Encoding RNN- Enables network to take an input of the sequence form.\n",
    "\n",
    "Generating RNN- network basically outputs a sequence of numbers or values, like words in a sentence.\n",
    "\n",
    "General recurrent neural networks - combination of the preceding two types of RNNs. It's used to generate sequences and, thus, are widely used in NLG (natural language generation) tasks."
   ]
  },
  {
   "cell_type": "markdown",
   "metadata": {},
   "source": [
    "# encoder - decoder networks\n",
    "This uses one network to create an internal representation of the input, or to 'encode' it, and that representation is used as an input for another network to produce the output.\n",
    "\n",
    "## recursive neural networks\n",
    "In a recursive neural network, a fixed set of weights is recursively applied onto the network structure and is primarily used to discover, the hierarchy or structure of the data. "
   ]
  },
  {
   "cell_type": "code",
   "execution_count": 7,
   "metadata": {},
   "outputs": [
    {
     "data": {
      "text/plain": [
       "[True, True, False, False, False]"
      ]
     },
     "execution_count": 7,
     "metadata": {},
     "output_type": "execute_result"
    }
   ],
   "source": [
    "import numpy as np\n",
    "name = [1,2,3,4,5]\n",
    "name1 = [1,2.2,4,1,1]\n",
    "[np.round(i)==j for i,j in zip(name1, name)]"
   ]
  },
  {
   "cell_type": "code",
   "execution_count": null,
   "metadata": {},
   "outputs": [],
   "source": []
  }
 ],
 "metadata": {
  "kernelspec": {
   "display_name": "Python 3",
   "language": "python",
   "name": "python3"
  },
  "language_info": {
   "codemirror_mode": {
    "name": "ipython",
    "version": 3
   },
   "file_extension": ".py",
   "mimetype": "text/x-python",
   "name": "python",
   "nbconvert_exporter": "python",
   "pygments_lexer": "ipython3",
   "version": "3.7.4"
  }
 },
 "nbformat": 4,
 "nbformat_minor": 4
}
