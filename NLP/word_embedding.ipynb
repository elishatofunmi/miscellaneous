{
  "nbformat": 4,
  "nbformat_minor": 0,
  "metadata": {
    "colab": {
      "name": "word embedding.ipynb",
      "provenance": [],
      "collapsed_sections": []
    },
    "kernelspec": {
      "name": "python3",
      "display_name": "Python 3"
    }
  },
  "cells": [
    {
      "cell_type": "code",
      "metadata": {
        "id": "7yPqEBPMDhTy",
        "colab_type": "code",
        "colab": {}
      },
      "source": [
        "#Word embedding are a type of word representation that allows words with similar meaning\n",
        "# to have a similar representation.\n",
        "\n",
        "#word embeddings are in fact a class of techniques where individual words are represented as\n",
        "#real-valued vectors\n",
        "\n",
        "#!pip install -U gensim"
      ],
      "execution_count": 0,
      "outputs": []
    },
    {
      "cell_type": "code",
      "metadata": {
        "id": "Eu1Bx59uaZ-Y",
        "colab_type": "code",
        "colab": {}
      },
      "source": [
        "import gensim\n",
        "from gensim.models import Word2Vec\n"
      ],
      "execution_count": 0,
      "outputs": []
    },
    {
      "cell_type": "code",
      "metadata": {
        "id": "yitAianpamDi",
        "colab_type": "code",
        "colab": {}
      },
      "source": [
        "sentences = \" I will be here to take good care of you\"\n",
        "model = Word2Vec(sentences.split())"
      ],
      "execution_count": 0,
      "outputs": []
    },
    {
      "cell_type": "code",
      "metadata": {
        "id": "gq2hSZVYBT8W",
        "colab_type": "code",
        "colab": {
          "base_uri": "https://localhost:8080/",
          "height": 34
        },
        "outputId": "fda844ac-7718-4a4b-8a86-f47bdc4bcd50"
      },
      "source": [
        "words = list(model.wv.vocab)\n",
        "print(words)"
      ],
      "execution_count": 21,
      "outputs": [
        {
          "output_type": "stream",
          "text": [
            "['e', 'o']\n"
          ],
          "name": "stdout"
        }
      ]
    },
    {
      "cell_type": "code",
      "metadata": {
        "id": "VixRDcHBBugj",
        "colab_type": "code",
        "colab": {}
      },
      "source": [
        "model.wv.save_word2vec_format('model.bin')"
      ],
      "execution_count": 0,
      "outputs": []
    },
    {
      "cell_type": "code",
      "metadata": {
        "id": "rFHYCsxnCP2E",
        "colab_type": "code",
        "colab": {}
      },
      "source": [
        "model.wv.save_word2vec_format('model.txt', binary = False)"
      ],
      "execution_count": 0,
      "outputs": []
    },
    {
      "cell_type": "code",
      "metadata": {
        "id": "Dg770_tZEhSU",
        "colab_type": "code",
        "colab": {
          "base_uri": "https://localhost:8080/",
          "height": 521
        },
        "outputId": "23d1f5fb-915f-4de6-9596-293d6f7a4ae4"
      },
      "source": [
        "from gensim.models import Word2Vec\n",
        "#define training data\n",
        "\n",
        "sentences = [['this','is','the','first','sentence','for','word2vec'],\n",
        "             ['this', 'is','the', 'second', 'sentence'],\n",
        "             ['yet','another','sentence'],\n",
        "             ['and','the','final','sentence']]\n",
        "\n",
        "#train model\n",
        "model = Word2Vec(sentences, min_count = 1)\n",
        "#sumarize the loaded model\n",
        "print(model)\n",
        "\n",
        "#summarize vocabulary\n",
        "words = list(model.wv.vocab)\n",
        "\n",
        "print(words)\n",
        "#access vector for one word\n",
        "print(model['sentence'])\n",
        "#save model\n",
        "model.save('model.bin')\n",
        "#load model\n",
        "new_model = Word2Vec.load('model.bin')\n",
        "print(new_model)"
      ],
      "execution_count": 25,
      "outputs": [
        {
          "output_type": "stream",
          "text": [
            "Word2Vec(vocab=12, size=100, alpha=0.025)\n",
            "['this', 'is', 'the', 'first', 'sentence', 'for', 'word2vec', 'second', 'yet', 'another', 'and', 'final']\n",
            "[ 1.2736522e-03  4.8158942e-03  3.9709359e-04 -2.2752872e-03\n",
            " -4.2754961e-03 -4.6096225e-03 -3.1810799e-03 -3.1503844e-03\n",
            " -3.9222892e-03 -9.6333108e-04  1.9015007e-03  1.4958869e-03\n",
            " -6.7930116e-04  4.3533393e-03  3.1474023e-03  1.9825588e-03\n",
            "  1.6840943e-04  1.3652198e-03 -1.3966034e-03  5.6277431e-04\n",
            "  3.7069151e-03 -3.1233833e-03  7.0442620e-04 -8.5501937e-04\n",
            " -1.1851167e-03  1.8974830e-03 -8.5328484e-04  2.2335178e-03\n",
            " -3.8738931e-03  2.2042037e-03 -4.6243174e-03 -4.2433538e-03\n",
            " -2.9419768e-03 -1.2420310e-03  4.9771951e-03 -3.4897302e-03\n",
            "  1.9520556e-04 -1.6897686e-03 -2.1018046e-03  3.3644584e-03\n",
            " -4.3616192e-03  3.6796445e-03 -3.0512635e-03 -2.1295233e-03\n",
            "  3.6640824e-03  2.0654863e-03  3.1448100e-03  2.7696837e-03\n",
            "  2.0688819e-03 -3.0894659e-03  1.5675704e-03  4.5061254e-04\n",
            "  2.2348943e-03  3.9047964e-03 -3.9095618e-03 -2.6934457e-03\n",
            " -4.3000737e-03  2.1144899e-03 -5.4186577e-04 -1.4940492e-03\n",
            "  3.1372337e-03  3.9938535e-03  1.2482794e-03  2.5734596e-03\n",
            " -3.4843255e-03  7.2903302e-04  2.8588931e-05  2.2794066e-03\n",
            "  2.3701983e-03 -3.5174005e-03  2.7321347e-03 -2.6691486e-03\n",
            " -1.0310147e-03 -2.3235874e-03 -7.9412531e-04 -2.6833634e-03\n",
            "  2.2586105e-04 -3.7168534e-03 -3.2875512e-03 -2.0631216e-03\n",
            " -8.8639971e-04  3.8256359e-03  3.6272435e-03  2.6947509e-03\n",
            "  2.6260195e-03  4.7408752e-03  1.0460167e-03  1.9499956e-03\n",
            "  5.8193487e-04  7.6407549e-04 -3.7952189e-03 -4.6593589e-03\n",
            " -4.3248991e-05  1.2091688e-03  4.2770975e-03  3.1240687e-03\n",
            "  3.4112595e-03  2.4281263e-03 -3.5221481e-03  4.6576248e-03]\n",
            "Word2Vec(vocab=12, size=100, alpha=0.025)\n"
          ],
          "name": "stdout"
        },
        {
          "output_type": "stream",
          "text": [
            "/usr/local/lib/python3.6/dist-packages/ipykernel_launcher.py:19: DeprecationWarning: Call to deprecated `__getitem__` (Method will be removed in 4.0.0, use self.wv.__getitem__() instead).\n"
          ],
          "name": "stderr"
        }
      ]
    },
    {
      "cell_type": "code",
      "metadata": {
        "id": "v4B2T6sSFSSQ",
        "colab_type": "code",
        "colab": {
          "base_uri": "https://localhost:8080/",
          "height": 52
        },
        "outputId": "fa02a70d-10e3-4bff-a936-f96d1b8745de"
      },
      "source": [
        "#visualizee word embedding\n",
        "X = model[model.wv.vocab]"
      ],
      "execution_count": 26,
      "outputs": [
        {
          "output_type": "stream",
          "text": [
            "/usr/local/lib/python3.6/dist-packages/ipykernel_launcher.py:2: DeprecationWarning: Call to deprecated `__getitem__` (Method will be removed in 4.0.0, use self.wv.__getitem__() instead).\n",
            "  \n"
          ],
          "name": "stderr"
        }
      ]
    },
    {
      "cell_type": "code",
      "metadata": {
        "id": "5yzIXrQ0FraB",
        "colab_type": "code",
        "colab": {}
      },
      "source": [
        "from sklearn.decomposition import PCA\n",
        "pca = PCA(n_components = 2)\n",
        "result = pca.fit_transform(X)"
      ],
      "execution_count": 0,
      "outputs": []
    },
    {
      "cell_type": "code",
      "metadata": {
        "id": "BIR6vnnKF0oO",
        "colab_type": "code",
        "colab": {
          "base_uri": "https://localhost:8080/",
          "height": 268
        },
        "outputId": "025149f6-44a7-41f4-f772-1461099204bd"
      },
      "source": [
        "from matplotlib import pyplot\n",
        "pyplot.scatter(result[:,0], result[:,1])\n",
        "pyplot.show()"
      ],
      "execution_count": 29,
      "outputs": [
        {
          "output_type": "display_data",
          "data": {
            "image/png": "[encoded data removed]",
            "text/plain": [
              "<Figure size 432x288 with 1 Axes>"
            ]
          },
          "metadata": {
            "tags": [],
            "needs_background": "light"
          }
        }
      ]
    },
    {
      "cell_type": "code",
      "metadata": {
        "id": "EpPZshQbGDiZ",
        "colab_type": "code",
        "colab": {
          "base_uri": "https://localhost:8080/",
          "height": 269
        },
        "outputId": "d8c90309-5cbc-4667-e439-51a56c437224"
      },
      "source": [
        "words = list(model.wv.vocab)\n",
        "for i, word in enumerate(words):\n",
        "  pyplot.annotate(word, xy = (result[i,0], result[i,1]))"
      ],
      "execution_count": 31,
      "outputs": [
        {
          "output_type": "display_data",
          "data": {
            "image/png": "[encoded data removed]",
            "text/plain": [
              "<Figure size 432x288 with 1 Axes>"
            ]
          },
          "metadata": {
            "tags": [],
            "needs_background": "light"
          }
        }
      ]
    },
    {
      "cell_type": "code",
      "metadata": {
        "id": "JACiFNPaGTLw",
        "colab_type": "code",
        "colab": {}
      },
      "source": [
        "# load google's word2vec embedding\n",
        "\n"
      ],
      "execution_count": 0,
      "outputs": []
    }
  ]
}